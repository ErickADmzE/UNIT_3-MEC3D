{
 "cells": [
  {
   "cell_type": "markdown",
   "metadata": {},
   "source": [
    "# Exercises"
   ]
  },
  {
   "cell_type": "markdown",
   "metadata": {},
   "source": [
    "![Image](http://www.utaltamira.edu.mx/wp-content/uploads/2017/06/BIS-LOGO.png)"
   ]
  },
  {
   "cell_type": "markdown",
   "metadata": {},
   "source": [
    "## Exercise 13\n"
   ]
  },
  {
   "cell_type": "markdown",
   "metadata": {},
   "source": [
    "In this excersise we will see how to include more that one input method you can use to pass variables to a script."
   ]
  },
  {
   "cell_type": "code",
   "execution_count": 2,
   "metadata": {},
   "outputs": [
    {
     "name": "stdout",
     "output_type": "stream",
     "text": [
      "The script is called: C:\\Users\\yesenia\\Anaconda3\\lib\\site-packages\\ipykernel_launcher.py\n",
      "Your first variable is: -f\n",
      "Your second variable is: C:\\Users\\yesenia\\AppData\\Roaming\\jupyter\\runtime\\kernel-e20ed729-8c95-4779-a4d6-127770807aa5.json\n"
     ]
    }
   ],
   "source": [
    "from sys import argv\n",
    "\n",
    "script, first, second = argv\n",
    "\n",
    "print(\"The script is called:\", script)\n",
    "print(\"Your first variable is:\", first)\n",
    "print(\"Your second variable is:\", second)"
   ]
  },
  {
   "cell_type": "markdown",
   "metadata": {},
   "source": [
    "## Exercise 14"
   ]
  },
  {
   "cell_type": "markdown",
   "metadata": {},
   "source": [
    "We'll see one excersise that uses argv an input that are together to ask the user any specific thing.In this exercise we’ll use input slightly differently by having it print a simple > prompt."
   ]
  },
  {
   "cell_type": "code",
   "execution_count": null,
   "metadata": {},
   "outputs": [],
   "source": [
    "from sys import argv\n",
    "script, user_name = argv\n",
    "prompt = '> '\n",
    "\n",
    "print(f\"Hi {user_name}, I'm the {script} script.\")\n",
    "print(\"I'd like to ask you a few questions.\")\n",
    "print(f\"Do you like me {user_name}?\")\n",
    "likes = input(prompt)\n",
    "\n",
    "print(f\"Where do you live {user_name}?\")\n",
    "lives = input(prompt)\n",
    "\n",
    "print(\"What kind of computer do you have?\")\n",
    "computer = input(prompt)\n",
    "print(f\"\"\"Alright, so you said {likes} about liking me.\n",
    " You live in {lives}. Not sure where that is.\n",
    " And you have a {computer} computer. Nice.\"\"\")"
   ]
  },
  {
   "cell_type": "markdown",
   "metadata": {},
   "source": [
    "## Exercise 15"
   ]
  },
  {
   "cell_type": "markdown",
   "metadata": {},
   "source": [
    "You know how to get input from a user with input or argv. Now you will learn about reading from a\n",
    "file. You may have to play with this exercise the most to understand what’s going on, so do the exercise\n",
    "carefully and remember your checks."
   ]
  },
  {
   "cell_type": "code",
   "execution_count": null,
   "metadata": {},
   "outputs": [],
   "source": [
    "# define the name of the file to read from\n",
    "filename = \"test.txt\" #Here must be the name of the file to be read\n",
    "\n",
    "# open the file for reading\n",
    "filehandle = open(filename, 'r')\n",
    "while True:\n",
    "    # read a single line\n",
    "    line = filehandle.readline()\n",
    "    if not line:\n",
    "        break\n",
    "    print(line)\n",
    "\n",
    "# close the pointer to that file\n",
    "filehandle.close()"
   ]
  },
  {
   "cell_type": "markdown",
   "metadata": {},
   "source": [
    "## Exercise 16"
   ]
  },
  {
   "cell_type": "markdown",
   "metadata": {},
   "source": [
    "Python provides inbuilt functions for creating, writing and reading files. There are two types of files that can be handled in python, normal text files and binary files"
   ]
  },
  {
   "cell_type": "code",
   "execution_count": 10,
   "metadata": {},
   "outputs": [
    {
     "name": "stdout",
     "output_type": "stream",
     "text": [
      "Output of Read function is\n",
      "Hello \n",
      "This is Delhi \n",
      "This is Paris \n",
      "This is London \n",
      "\n",
      "0\n",
      "Output of Readline function is \n",
      "Hello \n",
      "\n",
      "0\n",
      "Output of Read(9) function is \n",
      "Hello \n",
      "Th\n",
      "0\n",
      "Output of Readline(9) function is \n",
      "Hello \n",
      "\n",
      "Output of Readlines function is \n",
      "['Hello \\n', 'This is Delhi \\n', 'This is Paris \\n', 'This is London \\n']\n",
      "None\n"
     ]
    }
   ],
   "source": [
    "# Program to show various ways to read and \n",
    "# write data in a file. \n",
    "file1 = open(\"myfile.txt\",\"w\") \n",
    "L = [\"This is Delhi \\n\",\"This is Paris \\n\",\"This is London \\n\"]  \n",
    "  \n",
    "# \\n is placed to indicate EOL (End of Line) \n",
    "file1.write(\"Hello \\n\") \n",
    "file1.writelines(L) \n",
    "file1.close() #to change file access modes \n",
    "  \n",
    "file1 = open(\"myfile.txt\",\"r+\")  \n",
    "  \n",
    "print(\"Output of Read function is\")\n",
    "print (file1.read()) \n",
    "print (file1.seek(0))  \n",
    "  \n",
    "print( \"Output of Readline function is \")\n",
    "print (file1.readline()) \n",
    "print(file1.seek(0)) \n",
    "  \n",
    "# To show difference between read and readline \n",
    "print(\"Output of Read(9) function is \")\n",
    "print (file1.read(9)) \n",
    "print(file1.seek(0)) \n",
    "  \n",
    "print (\"Output of Readline(9) function is \")\n",
    "print( file1.readline(9)) \n",
    "file1.seek(0) \n",
    " \n",
    "print (\"Output of Readlines function is \")\n",
    "print (file1.readlines()) \n",
    "print(file1.close()) "
   ]
  },
  {
   "cell_type": "markdown",
   "metadata": {},
   "source": [
    "## Exercise 17"
   ]
  },
  {
   "cell_type": "markdown",
   "metadata": {},
   "source": [
    "Here is a code to learn how write a Python script to copy one file to another."
   ]
  },
  {
   "cell_type": "code",
   "execution_count": null,
   "metadata": {},
   "outputs": [],
   "source": [
    "import shutil\n",
    "shutil.copy2('/Users/marco/abc.txt', '/Users/marco/abc_copy2.txt') #it is a for to how you must write your file to search\n",
    "#another way to copy file\n",
    "shutil.copyfile('/Users/marco/abc.txt', '/Users/marco/abc_copyfile.txt')\n",
    "print(\"File Copy Done\")\n",
    "#pay attention if you do not write the name of the file where is it correctly, you will have an error"
   ]
  },
  {
   "cell_type": "markdown",
   "metadata": {},
   "source": [
    "## Exercise 18"
   ]
  },
  {
   "cell_type": "markdown",
   "metadata": {},
   "source": [
    "You can create a function by using the word def in Python. I’m going to have you make four different\n",
    "functions that work like your scripts."
   ]
  },
  {
   "cell_type": "code",
   "execution_count": 8,
   "metadata": {},
   "outputs": [
    {
     "name": "stdout",
     "output_type": "stream",
     "text": [
      "arg1; Name: Marco, arg2;First Surname:Garcia\n",
      "arg1;Name: Marco, arg2;First Surname: Garcia\n",
      "arg1: First!\n",
      "I got nothing else to say.\n"
     ]
    }
   ],
   "source": [
    "def print_two(*args):\n",
    "    arg1, arg2 = args\n",
    "    print(f\"arg1; Name: {arg1}, arg2;First Surname:{arg2}\")\n",
    " # ok, that *args is actually pointless, we can just do this\n",
    "def print_two_again(arg1, arg2):\n",
    "    print(f\"arg1;Name: {arg1}, arg2;First Surname: {arg2}\")\n",
    "    # this just takes one argument\n",
    "def print_one(arg1):\n",
    "    print(f\"arg1: {arg1}\")\n",
    " # this one takes no arguments\n",
    "def print_none():\n",
    "    print(\"I got nothing else to say.\")\n",
    "\n",
    "print_two(\"Marco\",\"Garcia\")\n",
    "print_two_again(\"Marco\",\"Garcia\")\n",
    "print_one(\"First!\")\n",
    "print_none()"
   ]
  },
  {
   "cell_type": "markdown",
   "metadata": {},
   "source": [
    "## Exercise 19"
   ]
  },
  {
   "cell_type": "markdown",
   "metadata": {},
   "source": [
    "\n",
    "What we will see now will be how to develop a program using variables and functions and in this location they will be used with the variable def in python"
   ]
  },
  {
   "cell_type": "code",
   "execution_count": 7,
   "metadata": {},
   "outputs": [
    {
     "name": "stdout",
     "output_type": "stream",
     "text": [
      "We can just give the function numbers directly:\n",
      "You have 20 cakes!\n",
      "You have 30 boxes of crackers!\n",
      "Man that's enough for a party!\n",
      "Get a blanket.\n",
      "\n",
      "OR, we can use variables from our script:\n",
      "You have 20 cakes!\n",
      "You have 50 boxes of crackers!\n",
      "Man that's enough for a party!\n",
      "Get a blanket.\n",
      "\n",
      "We can even do math inside too:\n",
      "You have 45 cakes!\n",
      "You have 11 boxes of crackers!\n",
      "Man that's enough for a party!\n",
      "Get a blanket.\n",
      "\n",
      "And we can combine the two, variables and math:\n",
      "You have 120 cakes!\n",
      "You have 1050 boxes of crackers!\n",
      "Man that's enough for a party!\n",
      "Get a blanket.\n",
      "\n"
     ]
    }
   ],
   "source": [
    "def cakes_and_crackers(cakes_count, boxes_of_crackers):\n",
    "    print(f\"You have {cakes_count} cakes!\")\n",
    "    print(f\"You have {boxes_of_crackers} boxes of crackers!\")\n",
    "    print(\"Man that's enough for a party!\")\n",
    "    print(\"Get a blanket.\\n\")\n",
    "\n",
    "print(\"We can just give the function numbers directly:\")\n",
    "cakes_and_crackers(20, 30)\n",
    "\n",
    "print(\"OR, we can use variables from our script:\")\n",
    "amount_of_cakes = 20\n",
    "amount_of_crackers = 50\n",
    "\n",
    "cakes_and_crackers(amount_of_cakes, amount_of_crackers)\n",
    "\n",
    "print(\"We can even do math inside too:\")\n",
    "cakes_and_crackers(20 + 25, 5 + 6)\n",
    "\n",
    "print(\"And we can combine the two, variables and math:\")\n",
    "cakes_and_crackers(amount_of_cakes + 100, amount_of_crackers + 1000)"
   ]
  },
  {
   "cell_type": "markdown",
   "metadata": {},
   "source": [
    "# EXERCISE 20.- Functions and Files"
   ]
  },
  {
   "cell_type": "markdown",
   "metadata": {},
   "source": [
    "This exercise shows how functions and files can work together to do useful things, in this case how to pass the current line number each time we run print_a_line."
   ]
  },
  {
   "cell_type": "code",
   "execution_count": null,
   "metadata": {},
   "outputs": [],
   "source": [
    "from sys import argv\n",
    "\n",
    "script, input_file = argv\n",
    "\n",
    "def print_all(f):\n",
    "    print(f.read())\n",
    "\n",
    "def rewind(f):\n",
    "    f.seek(0)\n",
    "\n",
    "def print_a_line(line_count, f):\n",
    "    print(line_count, f.readline())\n",
    "\n",
    "current_file = open(input_file)\n",
    "\n",
    "print(\"First let's print the whole file:\\n\")\n",
    "\n",
    "print_all(current_file)\n",
    "\n",
    "print(\"Now let's rewind, kind of like a tape.\")\n",
    "\n",
    "rewind(current_file)\n",
    "\n",
    "print(\"Let's print three lines:\")\n",
    "\n",
    "current_line = 1\n",
    "print_a_line(current_line, current_file)\n",
    "\n",
    "current_line = current_line + 1\n",
    "print_a_line(current_line, current_file)\n",
    "\n",
    "current_line = current_line + 1\n",
    "print_a_line(current_line, current_file)\n"
   ]
  },
  {
   "cell_type": "markdown",
   "metadata": {},
   "source": [
    "# EXERCISE 21.- Functions Can Return Something"
   ]
  },
  {
   "cell_type": "markdown",
   "metadata": {},
   "source": [
    "With these mathematical functions of adding, subtracting, dividing and multiplying, we will use them to define variables and solve the desired operations. The use of them will be shown below:"
   ]
  },
  {
   "cell_type": "code",
   "execution_count": 5,
   "metadata": {},
   "outputs": [
    {
     "name": "stdout",
     "output_type": "stream",
     "text": [
      "Let's do some math with just functions!\n",
      "ADDING 17 + 2\n",
      "SUBTRACTING 2.5 - 0.9\n",
      "MULTIPLYING 35 * 2\n",
      "DIVIDING 491810026 / 1\n",
      "Age: 19, Height: 1.6, Weight: 70, IQ: 491810026.0\n"
     ]
    }
   ],
   "source": [
    "def add(a, b):\n",
    "    print(f\"ADDING {a} + {b}\")\n",
    "    return a + b\n",
    "\n",
    "def subtract(a, b):\n",
    "    print(f\"SUBTRACTING {a} - {b}\")\n",
    "    return a - b\n",
    "\n",
    "def multiply(a, b):\n",
    "    print(f\"MULTIPLYING {a} * {b}\")\n",
    "    return a * b\n",
    "\n",
    "def divide(a, b):\n",
    "    print(f\"DIVIDING {a} / {b}\")\n",
    "    return a / b\n",
    "\n",
    "\n",
    "print(\"Let's do some math with just functions!\")\n",
    "\n",
    "age = add(17, 2)\n",
    "height = subtract(2.50, 0.9)\n",
    "weight = multiply(35, 2)\n",
    "iq = divide(491810026, 1)\n",
    "\n",
    "print(f\"Age: {age}, Height: {height}, Weight: {weight}, IQ: {iq}\")"
   ]
  },
  {
   "cell_type": "markdown",
   "metadata": {},
   "source": [
    "# EXERCISE 40.- Modules, Classes, and Objects"
   ]
  },
  {
   "cell_type": "markdown",
   "metadata": {},
   "source": [
    "This exercise will classify the modules, classes and objects within a program, facilitating the use of them. An example will be shown below, using a certain part of the lyrics of a song, declaring the song as a class and its lyrics as an object, thus making it easier to interpret."
   ]
  },
  {
   "cell_type": "code",
   "execution_count": 4,
   "metadata": {},
   "outputs": [
    {
     "name": "stdout",
     "output_type": "stream",
     "text": [
      "Imagine there's no heaven\n",
      "It's easy if you try\n",
      "No hell below us\n",
      "Above us only sky\n",
      "Imagine all the people\n",
      "Living for today (ah ah ah)\n",
      "\n",
      "That was a certain part of my favorite song.\n"
     ]
    }
   ],
   "source": [
    "class Song(object):\n",
    "\n",
    "    def __init__(self, lyrics):\n",
    "        self.lyrics = lyrics\n",
    "\n",
    "    def sing_me_a_song(self):\n",
    "        for line in self.lyrics:\n",
    "            print(line)\n",
    "\n",
    "imagine_John = Song([\"Imagine there's no heaven\",\n",
    "                   \"It's easy if you try\",\n",
    "                   \"No hell below us\",\n",
    "                   \"Above us only sky\",\n",
    "                   \"Imagine all the people\",\n",
    "                   \"Living for today (ah ah ah)\"])\n",
    "\n",
    "imagine_John.sing_me_a_song()\n",
    "\n",
    "print(\"\\nThat was a certain part of my favorite song.\")"
   ]
  },
  {
   "cell_type": "markdown",
   "metadata": {},
   "source": [
    "# EXERCISE 41.- Learning to Speak Object-Oriented"
   ]
  },
  {
   "cell_type": "markdown",
   "metadata": {},
   "source": [
    "This exercise is used in how to speak \"object oriented\". What will be done next a set of sentences in which they must be solid for your vocabulary."
   ]
  },
  {
   "cell_type": "code",
   "execution_count": null,
   "metadata": {},
   "outputs": [],
   "source": [
    "import random\n",
    "from urllib.request import urlopen\n",
    "import sys\n",
    "\n",
    "WORD_URL = \"http://learncodethehardway.org/words.txt\"\n",
    "WORDS = []\n",
    "\n",
    "PHRASES = {\n",
    "     \"class account(account):\":\n",
    "     \"Make a class named account that is-a account.\",\n",
    "     \"class account(object):\\n\\tdef __init__(self, argument)\" :\n",
    "     \"class account has-a __init__ that takes self and argument params.\",\n",
    "     \"class account(object):\\n\\tdef argument(self, addition)\":\n",
    "     \"class account has-a function argument that takes self and addition params.\",\n",
    "     \"*** = account()\":\n",
    "     \"Set argument to an instance of class account.\",\n",
    "     \"argument.argument(addition)\":\n",
    "     \"From argument get the *** function, call it with params self, addition.\",\n",
    "     \"argument.argument = 'argument'\":\n",
    "     \"From argument get the argument attribute and set it to 'argument'.\"\n",
    "}\n",
    "\n",
    "# do they want to drill phrases first\n",
    "if len(sys.argv) == 2 and sys.argv[1] == \"english\":\n",
    "    PHRASE_FIRST = True\n",
    "else:\n",
    "    PHRASE_FIRST = False\n",
    "\n",
    "# load up the words from the website\n",
    "for word in urlopen(WORD_URL).readlines():\n",
    "    WORDS.append(str(word.strip(), encoding=\"utf-8\"))\n",
    "\n",
    "\n",
    "def convert(snippet, phrase):\n",
    "    class_names = [w.capitalize() for w in\n",
    "    random.sample(WORDS, snippet.count(\"account\"))]\n",
    "    other_names = random.sample(WORDS, snippet.count(\"argument\"))\n",
    "    results = []\n",
    "    param_names = []\n",
    "\n",
    "    for i in range(0, snippet.count(\"addition\")):\n",
    "        param_count = random.randint(1,3)\n",
    "        param_names.append(', '.join(\n",
    "        random.sample(WORDS, param_count)))\n",
    "\n",
    "    for sentence in snippet, phrase:\n",
    "        result = sentence[:]\n",
    "\n",
    "        # fake class names\n",
    "        for word in class_names:\n",
    "            result = result.replace(\"account\", word, 1)\n",
    "\n",
    "        # fake other names\n",
    "        for word in other_names:\n",
    "            result = result.replace(\"argument\", word, 1)\n",
    "\n",
    "        # fake parameter lists\n",
    "        for word in param_names:\n",
    "            result = result.replace(\"addition\", word, 1)\n",
    "\n",
    "    results.append(result)\n",
    "\n",
    "    return results\n",
    "\n",
    "# keep going until they hit CTRL-D\n",
    "try:\n",
    "    while True:\n",
    "        snippets = list(PHRASES.keys())\n",
    "        random.shuffle(snippets)\n",
    "\n",
    "    for snippet in snippets:\n",
    "        phrase = PHRASES[snippet]\n",
    "        question, answer = convert(snippet, phrase)\n",
    "        if PHRASE_FIRST:\n",
    "            question, answer = answer, question\n",
    "\n",
    "        print(question)\n",
    "\n",
    "        input(\"> \")\n",
    "        print(f\"ANSWER: {answer}\\n\\n\")\n",
    "except EOFError:\n",
    "    print(\"\\nBye\")"
   ]
  },
  {
   "cell_type": "markdown",
   "metadata": {},
   "source": [
    "# EXERCISE 42.- Is-A, Has-A, Objects, and Classes"
   ]
  },
  {
   "cell_type": "markdown",
   "metadata": {},
   "source": [
    "An important concept that you have to understand is the difference between a class and an object. The problem is, there is no real ”difference” between a class and an object. They are actually the same thing at different points in time."
   ]
  },
  {
   "cell_type": "code",
   "execution_count": null,
   "metadata": {},
   "outputs": [],
   "source": [
    "## Animal is-a object (yes, sort of confusing) look at the extra credit\n",
    "class Animal(object):\n",
    "    pass\n",
    "\n",
    "## ??\n",
    "class Dog(Animal):\n",
    "\n",
    "    def __init__(self, name):\n",
    "## ??\n",
    "        self.name = name\n",
    "\n",
    " ## ??\n",
    "class Cat(Animal):\n",
    "\n",
    "    def __init__(self, name):\n",
    "## ??\n",
    "        self.name = name\n",
    "\n",
    "## ??\n",
    "class Person(object):\n",
    "\n",
    "    def __init__(self, name):\n",
    "## ??\n",
    "        self.name = name\n",
    "\n",
    "## Person has-a pet of some kind\n",
    "\n",
    "        self.pet = None\n",
    "\n",
    "## ??\n",
    "class Employee(Person):\n",
    "\n",
    "    def __init__(self, name, salary):\n",
    "## ?? hmm what is this strange magic?\n",
    "        super(Employee, self).__init__(name)\n",
    "## ??\n",
    "        self.salary = salary\n",
    "\n",
    "## ??\n",
    "class Fish(object):\n",
    "    pass\n",
    "\n",
    "## ??\n",
    "class Salmon(Fish):\n",
    "    pass\n",
    "\n",
    "## ??\n",
    "class Halibut(Fish):\n",
    "    pass\n",
    "\n",
    "\n",
    "## rover is-a Dog\n",
    "rover = Dog(\"Rover\")\n",
    "\n",
    "## ??\n",
    "satan = Cat(\"Satan\")\n",
    "\n",
    "## ??\n",
    "mary = Person(\"Mary\")\n",
    "\n",
    "## ??\n",
    "mary.pet = satan\n",
    "\n",
    "## ??\n",
    "frank = Employee(\"Frank\", 120000)\n",
    "\n",
    "## ??\n",
    "frank.pet = rover\n",
    "\n",
    "## ??\n",
    "flipper = Fish()\n",
    "\n",
    "## ??\n",
    "crouse = Salmon()\n",
    "\n",
    "## ??\n",
    "harry = Halibut()"
   ]
  },
  {
   "cell_type": "markdown",
   "metadata": {},
   "source": [
    "# EXERCISE 43.- Basic Object-Oriented Analysis and Design"
   ]
  },
  {
   "cell_type": "markdown",
   "metadata": {},
   "source": [
    "This exercise deals with a process specifically with object-oriented programming (OOP). What is meant by \"process\" is that it will give you a set of steps that you must follow in order. They are only a good starting point for many programming problems and should not be considered the only way to solve these types of problems."
   ]
  },
  {
   "cell_type": "code",
   "execution_count": null,
   "metadata": {},
   "outputs": [],
   "source": [
    "class Scene(object):\n",
    "\n",
    "    def enter(self):\n",
    "        pass\n",
    "\n",
    "\n",
    "class Engine(object):\n",
    "\n",
    "    def __init__(self, scene_map):\n",
    "        pass\n",
    "\n",
    "    def play(self):\n",
    "        pass\n",
    "\n",
    "class Death(Scene):\n",
    "\n",
    "    def enter(self):\n",
    "        pass\n",
    "\n",
    "class CentralCorridor(Scene):\n",
    "\n",
    "    def enter(self):\n",
    "        pass\n",
    "\n",
    "class LaserWeaponArmory(Scene):\n",
    "\n",
    "    def enter(self):\n",
    "        pass\n",
    "\n",
    "class TheBridge(Scene):\n",
    "\n",
    "    def enter(self):\n",
    "        pass\n",
    "\n",
    "class EscapePod(Scene):\n",
    "\n",
    "    def enter(self):\n",
    "\n",
    "        pass\n",
    "\n",
    "\n",
    "class Map(object):\n",
    "\n",
    "    def __init__(self, start_scene):\n",
    "        pass\n",
    "\n",
    "    def next_scene(self, scene_name):\n",
    "        pass\n",
    "\n",
    "    def opening_scene(self):\n",
    "        pass\n",
    "\n",
    "\n",
    "a_map = Map('central_corridor')\n",
    "a_game = Engine(a_map)\n",
    "a_game.play()"
   ]
  }
 ],
 "metadata": {
  "kernelspec": {
   "display_name": "Python 3",
   "language": "python",
   "name": "python3"
  },
  "language_info": {
   "codemirror_mode": {
    "name": "ipython",
    "version": 3
   },
   "file_extension": ".py",
   "mimetype": "text/x-python",
   "name": "python",
   "nbconvert_exporter": "python",
   "pygments_lexer": "ipython3",
   "version": "3.7.3"
  }
 },
 "nbformat": 4,
 "nbformat_minor": 2
}
